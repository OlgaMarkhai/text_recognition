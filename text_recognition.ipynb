{
  "nbformat": 4,
  "nbformat_minor": 0,
  "metadata": {
    "colab": {
      "provenance": [],
      "gpuType": "T4"
    },
    "kernelspec": {
      "name": "python3",
      "display_name": "Python 3"
    },
    "language_info": {
      "name": "python"
    },
    "accelerator": "GPU",
    "widgets": {
      "application/vnd.jupyter.widget-state+json": {
        "587add81d0f44f02940f94358bac4181": {
          "model_module": "@jupyter-widgets/controls",
          "model_name": "FileUploadModel",
          "model_module_version": "1.5.0",
          "state": {
            "_counter": 1,
            "_dom_classes": [],
            "_model_module": "@jupyter-widgets/controls",
            "_model_module_version": "1.5.0",
            "_model_name": "FileUploadModel",
            "_view_count": null,
            "_view_module": "@jupyter-widgets/controls",
            "_view_module_version": "1.5.0",
            "_view_name": "FileUploadView",
            "accept": ".wav,.mp3,.m4a",
            "button_style": "",
            "data": [
              null
            ],
            "description": "Upload",
            "description_tooltip": null,
            "disabled": false,
            "error": "",
            "icon": "upload",
            "layout": "IPY_MODEL_78c73cec667246be92362fec8d3c20b0",
            "metadata": [
              {
                "name": "113.m4a",
                "type": "audio/x-m4a",
                "size": 252890,
                "lastModified": 1696010588657
              }
            ],
            "multiple": false,
            "style": "IPY_MODEL_8918e4d65d0a4428a4400fb594ad9829"
          }
        },
        "78c73cec667246be92362fec8d3c20b0": {
          "model_module": "@jupyter-widgets/base",
          "model_name": "LayoutModel",
          "model_module_version": "1.2.0",
          "state": {
            "_model_module": "@jupyter-widgets/base",
            "_model_module_version": "1.2.0",
            "_model_name": "LayoutModel",
            "_view_count": null,
            "_view_module": "@jupyter-widgets/base",
            "_view_module_version": "1.2.0",
            "_view_name": "LayoutView",
            "align_content": null,
            "align_items": null,
            "align_self": null,
            "border": null,
            "bottom": null,
            "display": null,
            "flex": null,
            "flex_flow": null,
            "grid_area": null,
            "grid_auto_columns": null,
            "grid_auto_flow": null,
            "grid_auto_rows": null,
            "grid_column": null,
            "grid_gap": null,
            "grid_row": null,
            "grid_template_areas": null,
            "grid_template_columns": null,
            "grid_template_rows": null,
            "height": null,
            "justify_content": null,
            "justify_items": null,
            "left": null,
            "margin": null,
            "max_height": null,
            "max_width": null,
            "min_height": null,
            "min_width": null,
            "object_fit": null,
            "object_position": null,
            "order": null,
            "overflow": null,
            "overflow_x": null,
            "overflow_y": null,
            "padding": null,
            "right": null,
            "top": null,
            "visibility": null,
            "width": null
          }
        },
        "8918e4d65d0a4428a4400fb594ad9829": {
          "model_module": "@jupyter-widgets/controls",
          "model_name": "ButtonStyleModel",
          "model_module_version": "1.5.0",
          "state": {
            "_model_module": "@jupyter-widgets/controls",
            "_model_module_version": "1.5.0",
            "_model_name": "ButtonStyleModel",
            "_view_count": null,
            "_view_module": "@jupyter-widgets/base",
            "_view_module_version": "1.2.0",
            "_view_name": "StyleView",
            "button_color": null,
            "font_weight": ""
          }
        },
        "3503727aa7a547fda456edf1cc98f550": {
          "model_module": "@jupyter-widgets/output",
          "model_name": "OutputModel",
          "model_module_version": "1.0.0",
          "state": {
            "_dom_classes": [],
            "_model_module": "@jupyter-widgets/output",
            "_model_module_version": "1.0.0",
            "_model_name": "OutputModel",
            "_view_count": null,
            "_view_module": "@jupyter-widgets/output",
            "_view_module_version": "1.0.0",
            "_view_name": "OutputView",
            "layout": "IPY_MODEL_2b386fbf40694981bdef9384cb5fb170",
            "msg_id": "",
            "outputs": [
              {
                "output_type": "display_data",
                "data": {
                  "text/plain": "FloatProgress(value=0.0, description='Распознавание:', max=1.0)",
                  "application/vnd.jupyter.widget-view+json": {
                    "version_major": 2,
                    "version_minor": 0,
                    "model_id": "1fda4d9ba7d149209b2444cf997a68fa"
                  }
                },
                "metadata": {}
              },
              {
                "output_type": "stream",
                "name": "stdout",
                "text": [
                  "Результат был сохранен в файл 'result_full.txt'.\n"
                ]
              }
            ]
          }
        },
        "2b386fbf40694981bdef9384cb5fb170": {
          "model_module": "@jupyter-widgets/base",
          "model_name": "LayoutModel",
          "model_module_version": "1.2.0",
          "state": {
            "_model_module": "@jupyter-widgets/base",
            "_model_module_version": "1.2.0",
            "_model_name": "LayoutModel",
            "_view_count": null,
            "_view_module": "@jupyter-widgets/base",
            "_view_module_version": "1.2.0",
            "_view_name": "LayoutView",
            "align_content": null,
            "align_items": null,
            "align_self": null,
            "border": null,
            "bottom": null,
            "display": null,
            "flex": null,
            "flex_flow": null,
            "grid_area": null,
            "grid_auto_columns": null,
            "grid_auto_flow": null,
            "grid_auto_rows": null,
            "grid_column": null,
            "grid_gap": null,
            "grid_row": null,
            "grid_template_areas": null,
            "grid_template_columns": null,
            "grid_template_rows": null,
            "height": null,
            "justify_content": null,
            "justify_items": null,
            "left": null,
            "margin": null,
            "max_height": null,
            "max_width": null,
            "min_height": null,
            "min_width": null,
            "object_fit": null,
            "object_position": null,
            "order": null,
            "overflow": null,
            "overflow_x": null,
            "overflow_y": null,
            "padding": null,
            "right": null,
            "top": null,
            "visibility": null,
            "width": null
          }
        },
        "1fda4d9ba7d149209b2444cf997a68fa": {
          "model_module": "@jupyter-widgets/controls",
          "model_name": "FloatProgressModel",
          "model_module_version": "1.5.0",
          "state": {
            "_dom_classes": [],
            "_model_module": "@jupyter-widgets/controls",
            "_model_module_version": "1.5.0",
            "_model_name": "FloatProgressModel",
            "_view_count": null,
            "_view_module": "@jupyter-widgets/controls",
            "_view_module_version": "1.5.0",
            "_view_name": "ProgressView",
            "bar_style": "",
            "description": "Распознавание:",
            "description_tooltip": null,
            "layout": "IPY_MODEL_f439ad649c0d44d88026e8895b997bcb",
            "max": 1,
            "min": 0,
            "orientation": "horizontal",
            "style": "IPY_MODEL_243d1e29a931407782bbf79d604083a6",
            "value": 1
          }
        },
        "f439ad649c0d44d88026e8895b997bcb": {
          "model_module": "@jupyter-widgets/base",
          "model_name": "LayoutModel",
          "model_module_version": "1.2.0",
          "state": {
            "_model_module": "@jupyter-widgets/base",
            "_model_module_version": "1.2.0",
            "_model_name": "LayoutModel",
            "_view_count": null,
            "_view_module": "@jupyter-widgets/base",
            "_view_module_version": "1.2.0",
            "_view_name": "LayoutView",
            "align_content": null,
            "align_items": null,
            "align_self": null,
            "border": null,
            "bottom": null,
            "display": null,
            "flex": null,
            "flex_flow": null,
            "grid_area": null,
            "grid_auto_columns": null,
            "grid_auto_flow": null,
            "grid_auto_rows": null,
            "grid_column": null,
            "grid_gap": null,
            "grid_row": null,
            "grid_template_areas": null,
            "grid_template_columns": null,
            "grid_template_rows": null,
            "height": null,
            "justify_content": null,
            "justify_items": null,
            "left": null,
            "margin": null,
            "max_height": null,
            "max_width": null,
            "min_height": null,
            "min_width": null,
            "object_fit": null,
            "object_position": null,
            "order": null,
            "overflow": null,
            "overflow_x": null,
            "overflow_y": null,
            "padding": null,
            "right": null,
            "top": null,
            "visibility": null,
            "width": null
          }
        },
        "243d1e29a931407782bbf79d604083a6": {
          "model_module": "@jupyter-widgets/controls",
          "model_name": "ProgressStyleModel",
          "model_module_version": "1.5.0",
          "state": {
            "_model_module": "@jupyter-widgets/controls",
            "_model_module_version": "1.5.0",
            "_model_name": "ProgressStyleModel",
            "_view_count": null,
            "_view_module": "@jupyter-widgets/base",
            "_view_module_version": "1.2.0",
            "_view_name": "StyleView",
            "bar_color": null,
            "description_width": ""
          }
        }
      }
    }
  },
  "cells": [
    {
      "cell_type": "markdown",
      "source": [
        "## Распознавание текста из файла с указанием ссылки на него"
      ],
      "metadata": {
        "id": "WK-0yzAB7DEO"
      }
    },
    {
      "cell_type": "markdown",
      "source": [
        "Устанавливаем необходимые библиотеки"
      ],
      "metadata": {
        "id": "u0AKBprqJyMK"
      }
    },
    {
      "cell_type": "code",
      "source": [
        "# pip install -U openai-whisper"
      ],
      "metadata": {
        "id": "wgOTZrGPyg6K"
      },
      "execution_count": 44,
      "outputs": []
    },
    {
      "cell_type": "code",
      "source": [
        "import whisper\n",
        "\n",
        "model = whisper.load_model(\"medium\")\n",
        "\n",
        "# загрузите аудиофайл, здесь необходимо указать путь к вашему файлу!!!\n",
        "audio = whisper.load_audio(\"/content/drive/MyDrive/звук/1.wav\")\n",
        "\n",
        "options = {\n",
        "    \"language\": \"RU\", # поставьте необходимый язык\n",
        "}\n",
        "result = whisper.transcribe(model, audio, **options)\n",
        "# print(result[\"text\"])\n",
        "\n",
        "# Записываем файл\n",
        "with open(\"output.txt\", \"w\", encoding=\"utf-8\") as file:\n",
        "    file.write(result[\"text\"])\n",
        "\n",
        "print(\"Результат записан в файл 'output.txt'\")"
      ],
      "metadata": {
        "colab": {
          "base_uri": "https://localhost:8080/"
        },
        "id": "d_1nP84RKjY2",
        "outputId": "61160595-b3c0-408b-a175-0c7bf571498c"
      },
      "execution_count": 43,
      "outputs": [
        {
          "output_type": "stream",
          "name": "stdout",
          "text": [
            "Результат записан в файл 'output.txt'\n"
          ]
        }
      ]
    },
    {
      "cell_type": "markdown",
      "source": [
        "## Распознавание текста из файла с интерактивной загрузкой"
      ],
      "metadata": {
        "id": "c6UK6ToeIqXY"
      }
    },
    {
      "cell_type": "code",
      "source": [
        "# pip install fileupload"
      ],
      "metadata": {
        "id": "V59PcT9CXmMn"
      },
      "execution_count": 41,
      "outputs": []
    },
    {
      "cell_type": "code",
      "source": [
        "import ipywidgets as widgets\n",
        "from IPython.display import display, HTML\n",
        "import time  # Добавлено для имитации процесса\n",
        "\n",
        "# Создаем виджет загрузки файла, который принимает как WAV, так и MP3/M4A файлы\n",
        "uploader = widgets.FileUpload(accept='.wav,.mp3,.m4a', multiple=False)\n",
        "\n",
        "# Создаем виджет прогресс-бара\n",
        "progress_bar = widgets.FloatProgress(value=0.0, min=0.0, max=1.0, description='Распознавание:')\n",
        "output = widgets.Output()\n",
        "\n",
        "# Создаем функцию для обработки загрузки файла и выполнения транскрибации\n",
        "def recognize_speech(change):\n",
        "    uploaded_filename = next(iter(uploader.value))\n",
        "    audio_data = uploader.value[uploaded_filename]['content']\n",
        "    file_extension = uploaded_filename.split('.')[-1].lower()  # Получаем расширение файла\n",
        "\n",
        "    # Сохраняем загруженный файл на диск с правильным расширением\n",
        "    with open(f\"uploaded_audio.{file_extension}\", \"wb\") as audio_file:\n",
        "        audio_file.write(audio_data)\n",
        "\n",
        "    # Отображаем прогресс-бар\n",
        "    with output:\n",
        "        display(progress_bar)\n",
        "\n",
        "    # Имитируем процесс транскрибации (замените этот участок на фактический код транскрибации)\n",
        "    for progress in range(0, 101, 10):\n",
        "        time.sleep(1)  # Имитация времени выполнения\n",
        "        progress_bar.value = progress / 100.0\n",
        "\n",
        "    # Загружаем модель и аудио для транскрибации\n",
        "    model = whisper.load_model(\"medium\")\n",
        "    audio = whisper.load_audio(f\"uploaded_audio.{file_extension}\")\n",
        "    options = {\n",
        "        \"language\": \"RU\", # Язык ввода, если не указан, то определяется автоматически\n",
        "    }\n",
        "    result = whisper.transcribe(model, audio, **options)\n",
        "\n",
        "    # Отображаем результат транскрибации\n",
        "    with output:\n",
        "        progress_bar.value = 1.0  # Устанавливаем прогресс-бар на 100% после завершения\n",
        "        # print(f\"<b>Результат транскрибации:</b> {result['text']}\")\n",
        "\n",
        "        # Записываем результат в файл\n",
        "        with open('result_full.txt', 'w', encoding='utf-8') as file:\n",
        "            file.write(result[\"text\"])\n",
        "        print(\"Результат был сохранен в файл 'result_full.txt'.\")\n",
        "\n",
        "# Устанавливаем обработчик событий для загрузки файла\n",
        "uploader.observe(recognize_speech, names='value')\n",
        "\n",
        "# Отображаем виджет загрузки файла и вывод\n",
        "display(uploader)\n",
        "display(output)\n",
        "\n",
        "\n"
      ],
      "metadata": {
        "colab": {
          "base_uri": "https://localhost:8080/",
          "height": 99,
          "referenced_widgets": [
            "587add81d0f44f02940f94358bac4181",
            "78c73cec667246be92362fec8d3c20b0",
            "8918e4d65d0a4428a4400fb594ad9829",
            "3503727aa7a547fda456edf1cc98f550",
            "2b386fbf40694981bdef9384cb5fb170",
            "1fda4d9ba7d149209b2444cf997a68fa",
            "f439ad649c0d44d88026e8895b997bcb",
            "243d1e29a931407782bbf79d604083a6"
          ]
        },
        "id": "Sfw0eyRp3jPZ",
        "outputId": "cb8627df-8f49-4349-bc05-63aa471dc3d6"
      },
      "execution_count": 68,
      "outputs": [
        {
          "output_type": "display_data",
          "data": {
            "text/plain": [
              "FileUpload(value={}, accept='.wav,.mp3,.m4a', description='Upload')"
            ],
            "application/vnd.jupyter.widget-view+json": {
              "version_major": 2,
              "version_minor": 0,
              "model_id": "587add81d0f44f02940f94358bac4181"
            }
          },
          "metadata": {}
        },
        {
          "output_type": "display_data",
          "data": {
            "text/plain": [
              "Output()"
            ],
            "application/vnd.jupyter.widget-view+json": {
              "version_major": 2,
              "version_minor": 0,
              "model_id": "3503727aa7a547fda456edf1cc98f550"
            }
          },
          "metadata": {}
        }
      ]
    },
    {
      "cell_type": "markdown",
      "source": [
        "## Распознавание голоса с микрофона из google colab\n"
      ],
      "metadata": {
        "id": "Y2Ivvpue3tl1"
      }
    },
    {
      "cell_type": "code",
      "source": [
        "# pip install SpeechRecognition"
      ],
      "metadata": {
        "id": "Wbm5RSp9r0pl"
      },
      "execution_count": 34,
      "outputs": []
    },
    {
      "cell_type": "code",
      "source": [
        "# !apt-get install -y python3-pyaudio"
      ],
      "metadata": {
        "id": "eOwhaezCstxo"
      },
      "execution_count": 33,
      "outputs": []
    },
    {
      "cell_type": "code",
      "source": [
        "# pip install pyaudio"
      ],
      "metadata": {
        "id": "-4XCnQZrsEc4"
      },
      "execution_count": 35,
      "outputs": []
    },
    {
      "cell_type": "code",
      "source": [
        "# pip install pipwin"
      ],
      "metadata": {
        "id": "oOte-dm-sOjy"
      },
      "execution_count": 36,
      "outputs": []
    },
    {
      "cell_type": "code",
      "source": [
        "# !pip install ffmpeg-python"
      ],
      "metadata": {
        "id": "ksYW7EhguNj5"
      },
      "execution_count": 37,
      "outputs": []
    },
    {
      "cell_type": "code",
      "source": [
        "from IPython.display import HTML, Audio\n",
        "from google.colab.output import eval_js\n",
        "from base64 import b64decode\n",
        "import numpy as np\n",
        "from scipy.io.wavfile import read as wav_read\n",
        "import io\n",
        "import ffmpeg\n",
        "\n",
        "# HTML-код для создания кнопки записи аудио\n",
        "AUDIO_HTML = \"\"\"\n",
        "<script>\n",
        "var my_div = document.createElement(\"DIV\");\n",
        "var my_btn = document.createElement(\"BUTTON\");\n",
        "var t = document.createTextNode(\"Нажмите для начала записи\");\n",
        "\n",
        "my_btn.appendChild(t);\n",
        "my_div.appendChild(my_btn);\n",
        "document.body.appendChild(my_div);\n",
        "\n",
        "var base64data = 0;\n",
        "var reader;\n",
        "var recorder, gumStream;\n",
        "var recordButton = my_btn;\n",
        "\n",
        "var handleSuccess = function(stream) {\n",
        "  gumStream = stream;\n",
        "  var options = {\n",
        "    mimeType : 'audio/webm;codecs=opus'\n",
        "  };\n",
        "  recorder = new MediaRecorder(stream);\n",
        "  recorder.ondataavailable = function(e) {\n",
        "    var url = URL.createObjectURL(e.data);\n",
        "    var preview = document.createElement('audio');\n",
        "    preview.controls = true;\n",
        "    preview.src = url;\n",
        "    document.body.appendChild(preview);\n",
        "\n",
        "    reader = new FileReader();\n",
        "    reader.readAsDataURL(e.data);\n",
        "    reader.onloadend = function() {\n",
        "      base64data = reader.result;\n",
        "    }\n",
        "  };\n",
        "  recorder.start();\n",
        "};\n",
        "\n",
        "recordButton.innerText = \"Идет запись... нажмите, чтобы остановить\";\n",
        "\n",
        "navigator.mediaDevices.getUserMedia({audio: true}).then(handleSuccess);\n",
        "\n",
        "function toggleRecording() {\n",
        "  if (recorder && recorder.state == \"recording\") {\n",
        "      recorder.stop();\n",
        "      gumStream.getAudioTracks()[0].stop();\n",
        "      recordButton.innerText = \"Сохранение записи... пожалуйста, подождите!\"\n",
        "  }\n",
        "}\n",
        "\n",
        "function sleep(ms) {\n",
        "  return new Promise(resolve => setTimeout(resolve, ms));\n",
        "}\n",
        "\n",
        "var data = new Promise(resolve=>{\n",
        "recordButton.onclick = ()=>{\n",
        "toggleRecording()\n",
        "\n",
        "sleep(2000).then(() => {\n",
        "  resolve(base64data.toString())\n",
        "});\n",
        "}\n",
        "});\n",
        "</script>\n",
        "\"\"\"\n",
        "\n",
        "def get_audio():\n",
        "  # Отображаем HTML-код для записи аудио\n",
        "  display(HTML(AUDIO_HTML))\n",
        "\n",
        "  # Получаем данные аудио из JavaScript\n",
        "  data = eval_js(\"data\")\n",
        "  binary = b64decode(data.split(',')[1])\n",
        "\n",
        "  # Преобразуем данные аудио в WAV-формат\n",
        "  process = (ffmpeg\n",
        "    .input('pipe:0')\n",
        "    .output('pipe:1', format='wav')\n",
        "    .run_async(pipe_stdin=True, pipe_stdout=True, pipe_stderr=True, quiet=True, overwrite_output=True)\n",
        "  )\n",
        "  output, err = process.communicate(input=binary)\n",
        "\n",
        "  # Разбираем заголовок WAV-файла для получения частоты дискретизации и аудиоданных\n",
        "  riff_chunk_size = len(output) - 8\n",
        "  q = riff_chunk_size\n",
        "  b = []\n",
        "  for i in range(4):\n",
        "      q, r = divmod(q, 256)\n",
        "      b.append(r)\n",
        "\n",
        "  riff = output[:4] + bytes(b) + output[8:]\n",
        "\n",
        "  srate, audio = wav_read(io.BytesIO(riff))\n",
        "\n",
        "  return audio, srate\n"
      ],
      "metadata": {
        "id": "IwfjbkTguYcQ"
      },
      "execution_count": 26,
      "outputs": []
    },
    {
      "cell_type": "code",
      "source": [
        "# вызов функции get_audio\n",
        "audio, srate = get_audio()"
      ],
      "metadata": {
        "colab": {
          "base_uri": "https://localhost:8080/",
          "height": 96
        },
        "id": "GOmiE0B_uc2R",
        "outputId": "89dfde1c-4f93-4822-f550-5b2476a5b265"
      },
      "execution_count": 28,
      "outputs": [
        {
          "output_type": "display_data",
          "data": {
            "text/plain": [
              "<IPython.core.display.HTML object>"
            ],
            "text/html": [
              "\n",
              "<script>\n",
              "var my_div = document.createElement(\"DIV\");\n",
              "var my_p = document.createElement(\"P\");\n",
              "var my_btn = document.createElement(\"BUTTON\");\n",
              "var t = document.createTextNode(\"Press to start recording\");\n",
              "\n",
              "my_btn.appendChild(t);\n",
              "//my_p.appendChild(my_btn);\n",
              "my_div.appendChild(my_btn);\n",
              "document.body.appendChild(my_div);\n",
              "\n",
              "var base64data = 0;\n",
              "var reader;\n",
              "var recorder, gumStream;\n",
              "var recordButton = my_btn;\n",
              "\n",
              "var handleSuccess = function(stream) {\n",
              "  gumStream = stream;\n",
              "  var options = {\n",
              "    //bitsPerSecond: 8000, //chrome seems to ignore, always 48k\n",
              "    mimeType : 'audio/webm;codecs=opus'\n",
              "    //mimeType : 'audio/webm;codecs=pcm'\n",
              "  };            \n",
              "  //recorder = new MediaRecorder(stream, options);\n",
              "  recorder = new MediaRecorder(stream);\n",
              "  recorder.ondataavailable = function(e) {            \n",
              "    var url = URL.createObjectURL(e.data);\n",
              "    var preview = document.createElement('audio');\n",
              "    preview.controls = true;\n",
              "    preview.src = url;\n",
              "    document.body.appendChild(preview);\n",
              "\n",
              "    reader = new FileReader();\n",
              "    reader.readAsDataURL(e.data); \n",
              "    reader.onloadend = function() {\n",
              "      base64data = reader.result;\n",
              "      //console.log(\"Inside FileReader:\" + base64data);\n",
              "    }\n",
              "  };\n",
              "  recorder.start();\n",
              "  };\n",
              "\n",
              "recordButton.innerText = \"Recording... press to stop\";\n",
              "\n",
              "navigator.mediaDevices.getUserMedia({audio: true}).then(handleSuccess);\n",
              "\n",
              "\n",
              "function toggleRecording() {\n",
              "  if (recorder && recorder.state == \"recording\") {\n",
              "      recorder.stop();\n",
              "      gumStream.getAudioTracks()[0].stop();\n",
              "      recordButton.innerText = \"Saving the recording... pls wait!\"\n",
              "  }\n",
              "}\n",
              "\n",
              "// https://stackoverflow.com/a/951057\n",
              "function sleep(ms) {\n",
              "  return new Promise(resolve => setTimeout(resolve, ms));\n",
              "}\n",
              "\n",
              "var data = new Promise(resolve=>{\n",
              "//recordButton.addEventListener(\"click\", toggleRecording);\n",
              "recordButton.onclick = ()=>{\n",
              "toggleRecording()\n",
              "\n",
              "sleep(2000).then(() => {\n",
              "  // wait 2000ms for the data to be available...\n",
              "  // ideally this should use something like await...\n",
              "  //console.log(\"Inside data:\" + base64data)\n",
              "  resolve(base64data.toString())\n",
              "\n",
              "});\n",
              "\n",
              "}\n",
              "});\n",
              "      \n",
              "</script>\n"
            ]
          },
          "metadata": {}
        }
      ]
    },
    {
      "cell_type": "code",
      "source": [
        "import numpy as np\n",
        "from scipy.io.wavfile import write, read\n",
        "import speech_recognition as sr\n",
        "\n",
        "# Сохраните данные аудио в файл\n",
        "write('temp_audio.wav', srate, audio)\n",
        "\n",
        "# функция для распознавания аудио\n",
        "def transcribe_audio(audio_file):\n",
        "    r = sr.Recognizer()\n",
        "    try:\n",
        "        with sr.AudioFile(audio_file) as source:\n",
        "            # Попробуйте распознать аудио\n",
        "            audio_data = r.record(source)\n",
        "            query = r.recognize_google(audio_data, language='ru-RU')\n",
        "            return query.lower()\n",
        "    except sr.UnknownValueError:\n",
        "        # Если не удалось распознать аудио\n",
        "        return \"Не удалось распознать аудио\"\n",
        "    except sr.RequestError as e:\n",
        "        # Если возникла ошибка при запросе к сервису распознавания\n",
        "        return f\"Ошибка при запросе к сервису распознавания: {str(e)}\"\n",
        "\n",
        "# Вызов функции для распознавания\n",
        "result = transcribe_audio('temp_audio.wav')\n",
        "\n",
        "# Вывод результата распознавания\n",
        "print(f'Вы сказали: {result}')\n",
        "\n"
      ],
      "metadata": {
        "colab": {
          "base_uri": "https://localhost:8080/"
        },
        "id": "-miqN-qlw7F1",
        "outputId": "c94452ce-2cbe-458e-e38e-bc44f9f99052"
      },
      "execution_count": 30,
      "outputs": [
        {
          "output_type": "stream",
          "name": "stdout",
          "text": [
            "Вы сказали: привет я хотела сказать что сегодня очень классная погода\n"
          ]
        }
      ]
    },
    {
      "cell_type": "code",
      "source": [
        "# Запись результата в файл result.txt\n",
        "with open('result.txt', 'w', encoding='utf-8') as file:\n",
        "    file.write(result)"
      ],
      "metadata": {
        "id": "O0gQmyRLruDO"
      },
      "execution_count": 32,
      "outputs": []
    },
    {
      "cell_type": "markdown",
      "source": [
        "## Распознавание голоса с микрофона не из google colab"
      ],
      "metadata": {
        "id": "tNii-WvCPPdI"
      }
    },
    {
      "cell_type": "code",
      "source": [
        "import speech_recognition as sr\n",
        "\n",
        "# Определяем функцию для записи аудио с микрофона и его распознавания\n",
        "def record_volume():\n",
        "    r = sr.Recognizer()  # Создаем объект Recognizer для управления распознаванием речи\n",
        "\n",
        "    # Начинаем запись аудио с микрофона\n",
        "    with sr.Microphone(device_index=1) as source:  # Указываем индекс устройства (может понадобиться указать свой)\n",
        "        print('Слушаю...')  # Выводим сообщение о начале записи\n",
        "\n",
        "        audio = r.listen(source)  # Записываем аудио и сохраняем в переменной audio\n",
        "\n",
        "    query = r.recognize_google(audio, language='ru-RU')  # Распознаем аудио с использованием Google Web Speech API\n",
        "    print(f'Вы сказали: {query.lower()}')  # Выводим распознанный текст в нижнем регистре с сообщением \"Вы сказали:\"\n",
        "\n",
        "# Вызываем функцию для записи и распознавания аудио\n",
        "record_volume()\n"
      ],
      "metadata": {
        "id": "VcHTWPJ3QcLy"
      },
      "execution_count": null,
      "outputs": []
    }
  ]
}